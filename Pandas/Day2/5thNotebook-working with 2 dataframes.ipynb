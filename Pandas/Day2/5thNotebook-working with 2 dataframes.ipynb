{
 "cells": [
  {
   "cell_type": "code",
   "execution_count": 1,
   "id": "293fc015",
   "metadata": {},
   "outputs": [],
   "source": [
    "import pandas as pd\n",
    "df_stocks = pd.DataFrame({\n",
    "    'tickers': ['GOOGL','WMT','MSFT'],\n",
    "    'price': [845, 65, 64],\n",
    "    'pe': [30.37,14.26,30.97],\n",
    "    'eps': [27.82, 4.61, 2.12]\n",
    "})\n",
    "df_weather = pd.DataFrame({\n",
    "    'day': ['1/1/2021','1/2/2021','1/3/2021'],\n",
    "    'temp': [32,35,28],\n",
    "    'windspeed':[6,7,2],\n",
    "    'event': ['rain','sunny','snow']\n",
    "})"
   ]
  },
  {
   "cell_type": "code",
   "execution_count": 3,
   "id": "52f1f426",
   "metadata": {},
   "outputs": [],
   "source": [
    "with pd.ExcelWriter('stocks_weather.xlsx') as writer:\n",
    "    df_stocks.to_excel(writer,sheet_name=\"stocks\")\n",
    "    df_weather.to_excel(writer,sheet_name=\"weather\")"
   ]
  },
  {
   "cell_type": "code",
   "execution_count": null,
   "id": "700ebf32",
   "metadata": {},
   "outputs": [],
   "source": []
  }
 ],
 "metadata": {
  "kernelspec": {
   "display_name": "Python 3",
   "language": "python",
   "name": "python3"
  },
  "language_info": {
   "codemirror_mode": {
    "name": "ipython",
    "version": 3
   },
   "file_extension": ".py",
   "mimetype": "text/x-python",
   "name": "python",
   "nbconvert_exporter": "python",
   "pygments_lexer": "ipython3",
   "version": "3.8.8"
  }
 },
 "nbformat": 4,
 "nbformat_minor": 5
}
